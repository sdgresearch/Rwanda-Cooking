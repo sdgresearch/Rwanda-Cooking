{
 "cells": [
  {
   "cell_type": "code",
   "execution_count": null,
   "metadata": {
    "executionInfo": {
     "elapsed": 1761,
     "status": "ok",
     "timestamp": 1682341774107,
     "user": {
      "displayName": "Maoran Sun",
      "userId": "15510753340659742457"
     },
     "user_tz": -60
    },
    "id": "EuuYK1I42qD8"
   },
   "outputs": [],
   "source": [
    "import numpy as np\n",
    "import pandas as pd\n",
    "import os\n",
    "import copy\n",
    "import seaborn as sns\n",
    "import matplotlib.pyplot as plt\n",
    "\n",
    "from xgboost import XGBClassifier\n",
    "import rle\n",
    "\n",
    "import glob"
   ]
  },
  {
   "cell_type": "code",
   "execution_count": null,
   "metadata": {
    "executionInfo": {
     "elapsed": 265,
     "status": "ok",
     "timestamp": 1682341937575,
     "user": {
      "displayName": "Maoran Sun",
      "userId": "15510753340659742457"
     },
     "user_tz": -60
    },
    "id": "ouQHSdqN4FOX"
   },
   "outputs": [],
   "source": [
    "## help functions\n",
    "def get_sample_interval(data, colName = \"Date/Time\"):\n",
    "    if 'sample_interval' in data.columns:\n",
    "        return data['sample_interval'].iloc[0]\n",
    "    else:\n",
    "        return (sorted(pd.to_datetime(data[colName]).unique())[1] - sorted(pd.to_datetime(data[colName]).unique())[0]) / np.timedelta64(1, 's')\n",
    "\n",
    "def loadModel(modelPath):\n",
    "    bst = XGBClassifier(n_estimators=2, max_depth=2, learning_rate=1)\n",
    "    bst.load_model(modelPath)\n",
    "    return bst\n",
    "\n",
    "def runQuantile(col, k, prob=0.8):\n",
    "    quantile_difftemps = []\n",
    "    for i in range(len(col)):\n",
    "        if i <= (len(col)-k):\n",
    "            quantile_difftemps.append(np.quantile(col[i:(i+k)], 0.8))\n",
    "    quantile_difftemps.extend([None] * (k-1))\n",
    "    return quantile_difftemps\n",
    "\n",
    "def smoothEvents(label, sample_interval, min_event_sec = 5*60, min_break_sec = 30 * 60):\n",
    "    #remove short breaks between cooking\n",
    "    rleLabel1, rleLength1 = rle.encode(label)\n",
    "    rleDF1 = pd.DataFrame(np.transpose([rleLabel1, rleLength1]), columns=['label', 'length'])\n",
    "    selectedRows = (rleDF1['label'] == 0) & (rleDF1['length']*sample_interval < min_break_sec)\n",
    "    rleDF1.loc[selectedRows.to_list(), 'label'] = 1\n",
    "    rleDF1['label'] = rleDF1['label'].astype(bool)\n",
    "\n",
    "    newLabels1 = []\n",
    "    for idx, row in rleDF1.iterrows():\n",
    "        newLabels1.extend([row['label']] * row['length'])\n",
    "    \n",
    "    #remove short cooking events\n",
    "    rleLabel2, rleLength2 = rle.encode(newLabels1)\n",
    "\n",
    "    rleDF2 = pd.DataFrame(np.transpose([rleLabel2, rleLength2]), columns=['label', 'length'])\n",
    "    selectedRows = ((rleDF2['label'] == 1) & (rleDF2['length']*sample_interval < min_event_sec)) | ((rleDF2['label'] == 1) & (rleDF2['length'] < 2))\n",
    "    rleDF2.loc[selectedRows, 'label'] = 0\n",
    "    rleDF2['label'] = rleDF2['label'].astype(bool)\n",
    "    \n",
    "    newLabels2 = []\n",
    "    for idx, row in rleDF2.iterrows():\n",
    "        newLabels2.extend([row['label']] * row['length'])\n",
    "        \n",
    "    return newLabels2\n",
    "\n",
    "def firefinder_detector(data, \n",
    "                        primary_threshold=75,\n",
    "                        min_event_temp=None, \n",
    "                        min_event_sec=5*60, \n",
    "                        min_break_sec=30*60):\n",
    "    #' Detect Cooking Using Firefinder Algorithm\n",
    "    #' \n",
    "    #' TODO: Danny document this \n",
    "    #' \n",
    "    #' @param data a sumsarizer formatted data table for one sensor mission\n",
    "    #' @param primary_threshold the main threshold to determine cooking\n",
    "    #' @param min_event_temp min temperature for an event\n",
    "    #' @param min_event_sec min number of seconds in a real event\n",
    "    #' @param min_break_sec min number of seconds to makeup a real break\n",
    "    max_run_length = 100\n",
    "    \n",
    "    # calculate features\n",
    "    sample_interval = get_sample_interval(data)\n",
    "    sample_interval_mins = sample_interval/60\n",
    "    \n",
    "    dataCopy = copy.deepcopy(data)\n",
    "    dataCopy['Date/Time'] = pd.to_datetime(dataCopy[\"Date/Time\"])\n",
    "    #make a column of 1st derivative (degC/minute)\n",
    "    dataCopy['difftemps'] = dataCopy['Value'].diff()\n",
    "    \n",
    "    #make a column of delta timestamps\n",
    "    dataCopy['difftimes'] = pd.to_datetime(dataCopy[\"Date/Time\"]).diff() / np.timedelta64(1, 's')\n",
    "    \n",
    "    #look at whether or not most of the data coming up in the next\n",
    "    #hour is negative slope or 100 data points, whichever is lower\n",
    "    dataCopy['quantile_difftemps'] = runQuantile(dataCopy['difftemps'], \n",
    "                                                 k=min(max_run_length, round(60/sample_interval_mins)))\n",
    "    \n",
    "    ##### RUN THE DECISION TREE \n",
    "    \n",
    "    #define points that are likely to be cooking\n",
    "    dataCopy['label'] = dataCopy['Value']>primary_threshold\n",
    "    \n",
    "    #get rid of long runs of negative slopes\n",
    "    selectedRows = dataCopy['quantile_difftemps'] < 0\n",
    "    dataCopy.loc[selectedRows, 'label'] = False\n",
    "    \n",
    "    #assume cooking for highly positive slopes\n",
    "    selectedRows = dataCopy['difftemps'] > 2\n",
    "    dataCopy.loc[selectedRows, 'label'] = True\n",
    "    \n",
    "    #get rid of highly negative slopes\n",
    "    selectedRows = [d < (-1*v/500) for d,v in zip(dataCopy['difftemps'], dataCopy['Value'])]\n",
    "    dataCopy.loc[selectedRows, 'label'] = False\n",
    "    \n",
    "    #remove places with gaps longer than the sample interval\n",
    "    selectedRows = dataCopy['difftimes'] > sample_interval\n",
    "    dataCopy.loc[selectedRows, 'label'] = False\n",
    "    \n",
    "    \n",
    "    dataCopy['label'] = smoothEvents(dataCopy['label'], sample_interval, min_event_sec, min_break_sec)\n",
    "    dataCopy['label'] = smoothEvents(dataCopy['label'], sample_interval, min_event_sec, min_break_sec)\n",
    "#     dataCopy['label'] = labelNew\n",
    "    \n",
    "    #remove events with very low cooking temps\n",
    "    if min_event_temp != None:\n",
    "        selectedRows = dataCopy['Value'] < min_event_temp\n",
    "        dataCopy.loc[selectedRows, 'label'] = False\n",
    "    \n",
    "    #remove events for data that is out of range and is probably an error\n",
    "    selectedRows = (dataCopy['Value'] > 1000) | (dataCopy['Value'] < -50)\n",
    "    dataCopy.loc[selectedRows, 'label'] = False\n",
    "    \n",
    "    return dataCopy['label']\n",
    "\n",
    "def threshold_detector(data, threshold=85, direction=\">\"):\n",
    "    #' Detect Cooking Using Simple Threshold\n",
    "    #' \n",
    "    #' Detects cooking using a simple threshold. \n",
    "    #' @param data a sumsarizer formatted data table for one sensor mission\n",
    "    #' @param threshold the main threshold to determine cooking\n",
    "    #' @param direction one of > < >= or <=\n",
    "    #' @param ... not currently used\n",
    "    sample_interval = get_sample_interval(data)\n",
    "    if direction not in ['>', '<', '>=', '<=']:\n",
    "        print(\"direction must be one of '>', '<', '>=', '<='\")\n",
    "        return None\n",
    "    if direction == '>':\n",
    "        return smoothEvents(data['Value'] > threshold, sample_interval)\n",
    "    elif direction == '<':\n",
    "        return smoothEvents(data['Value'] < threshold, sample_interval)\n",
    "    elif direction == '<=':\n",
    "        return smoothEvents(data['Value'] <= threshold, sample_interval)\n",
    "    else:\n",
    "        return smoothEvents(data['Value'] >= threshold, sample_interval)\n",
    "\n",
    "def ml_detector(data, model_path, threshold=0.5):\n",
    "    #' Use sl3 Machine Learning for event detection\n",
    "    #' \n",
    "    #' Uses a sl3 machine learner model trained on labels from TRAINSET to detect events. \n",
    "    #' See TODO to train your own\n",
    "    #' @param data a sumsarizer formatted data table for one sensor mission\n",
    "    #' @param model_obj either a sl3 learner fit object, or a url or path to a .rdata file containing one\n",
    "    #' @param threshold a value between 0 and 1 indicating the sensitivity of the event detector \n",
    "    if not os.path.exists(model_path):\n",
    "        print(\"Model file {} could not be found\".format(model_path))\n",
    "    # load model\n",
    "    sample_interval = get_sample_interval(data)\n",
    "    bst = loadModel(model_path)\n",
    "    pred = bst.predict(data['Value']) > 0\n",
    "    pred = smoothEvents(pred, sample_interval)\n",
    "    return pred\n",
    "\n",
    "def formatEvents(data, filePath, labelCol='predML'):\n",
    "  rleLabel1, rleLength1 = rle.encode(data[labelCol])\n",
    "\n",
    "  count = 1\n",
    "  events = []\n",
    "  for i in range(len(rleLabel1)):\n",
    "      if rleLabel1[i]:\n",
    "          startIdx = sum(rleLength1[:i])\n",
    "          endIdx = sum(rleLength1[:i+1])\n",
    "          tempDF = data.iloc[startIdx:endIdx]\n",
    "          t = pd.to_datetime(tempDF[\"Date/Time\"])\n",
    "  #         .diff() / np.timedelta64(1, 's')\n",
    "          events.append({\n",
    "              'event_num': count, \n",
    "              'start_time': tempDF['Date/Time'].iloc[0], \n",
    "              'stop_time': tempDF['Date/Time'].iloc[-1], \n",
    "              'min_temp': tempDF['Value'].min(), \n",
    "              'max_temp': tempDF['Value'].max(), \n",
    "              'duration_mins': (t.iloc[-1] - t.iloc[0]) / np.timedelta64(1, 's') / 60\n",
    "          })\n",
    "          count += 1  \n",
    "  eventsDF = pd.DataFrame(events)\n",
    "  eventsDF['filename'] = filePath.split('/')[-1].split('.')[0]\n",
    "  return eventsDF\n",
    "\n",
    "\n",
    "sns.set_theme()\n",
    "def getEventsPlots(df, labelCol='pred'):\n",
    "    events = []\n",
    "    rleLabel1, rleLength1 = rle.encode(df[labelCol])\n",
    "    for i in range(len(rleLabel1)-1):\n",
    "        if rleLabel1[i]:\n",
    "            startIdx = sum(rleLength1[:i])\n",
    "            endIdx = sum(rleLength1[:i+1])\n",
    "            events.append((startIdx, endIdx))\n",
    "    return events\n",
    "\n",
    "def getXtickLabel(se):\n",
    "    ticks, labels = [], []\n",
    "    se = pd.to_datetime(se)\n",
    "    for i in range(len(se)-1):\n",
    "        if (se[i].hour == 23) and (se[i+1].hour == 0):\n",
    "            ticks.append(i+1)\n",
    "            labels.append(se[i].date())\n",
    "    return ticks, labels\n",
    "\n",
    "def splitPlot(data, valueCol='value', labelCol='pred', figureTitle='', figurePath='', showPlot=True):\n",
    "    maxCol = 1000\n",
    "    splitChunk = np.ceil(len(data) / 1000).astype(int)\n",
    "    ylimMax = data[valueCol].max() + 10\n",
    "    fig, ax = plt.subplots(splitChunk, 1, figsize=(16,2*splitChunk), constrained_layout=True)\n",
    "    for i in range(splitChunk):\n",
    "        if i != splitChunk:\n",
    "            tempDF = data.iloc[i*maxCol: (i+1)*maxCol].reset_index(drop=True)\n",
    "        else:\n",
    "            tempDF = data.iloc[i*maxCol: ].reset_index(drop=True)\n",
    "        if splitChunk > 1:\n",
    "          t = sns.lineplot(data=tempDF, x=np.arange(len(tempDF)), y=valueCol, ax=ax[i], color='black')\n",
    "  #         for argi in tempDF[labelCol][tempDF[labelCol]].index:\n",
    "  #             t.axvline(argi, color='red', linewidth=0.3, fillstyle='full')\n",
    "          events = getEventsPlots(tempDF, labelCol)\n",
    "          for e in events:\n",
    "              ax[i].axvspan(e[0], e[1], alpha=0.5, color='red')\n",
    "        else:\n",
    "          t = sns.lineplot(data=tempDF, x=np.arange(len(tempDF)), y=valueCol, ax=ax, color='black')\n",
    "  #         for argi in tempDF[labelCol][tempDF[labelCol]].index:\n",
    "  #             t.axvline(argi, color='red', linewidth=0.3, fillstyle='full')\n",
    "          events = getEventsPlots(tempDF, labelCol)\n",
    "          for e in events:\n",
    "              ax.axvspan(e[0], e[1], alpha=0.5, color='red')\n",
    "        xticks, xlabels = getXtickLabel(tempDF['Date/Time'])\n",
    "        t.set_xticks(xticks, xlabels)\n",
    "        t.set_ylim(0,ylimMax)\n",
    "    if len(figureTitle) > 0:\n",
    "        plt.suptitle(figureTitle)\n",
    "    if showPlot:\n",
    "        plt.show()\n",
    "    if len(figurePath) > 0:\n",
    "        fig.savefig(figurePath, dpi=300, bbox_inches='tight')"
   ]
  },
  {
   "cell_type": "markdown",
   "metadata": {
    "id": "K7zf2gyK3Egf"
   },
   "source": [
    "## Load data"
   ]
  },
  {
   "cell_type": "code",
   "execution_count": null,
   "metadata": {
    "executionInfo": {
     "elapsed": 329,
     "status": "ok",
     "timestamp": 1682341835672,
     "user": {
      "displayName": "Maoran Sun",
      "userId": "15510753340659742457"
     },
     "user_tz": -60
    },
    "id": "gqG_r_3Xzup4"
   },
   "outputs": [],
   "source": [
    "fileName = \"alfashir1_B12.csv\""
   ]
  },
  {
   "cell_type": "code",
   "execution_count": null,
   "metadata": {
    "colab": {
     "base_uri": "https://localhost:8080/",
     "height": 206
    },
    "executionInfo": {
     "elapsed": 700,
     "status": "ok",
     "timestamp": 1682341836644,
     "user": {
      "displayName": "Maoran Sun",
      "userId": "15510753340659742457"
     },
     "user_tz": -60
    },
    "id": "69F2UDdc2fob",
    "outputId": "eacde5a2-5ff4-436b-e19a-19202a929988"
   },
   "outputs": [],
   "source": [
    "data = pd.read_csv(fileName)\n",
    "data.head()"
   ]
  },
  {
   "cell_type": "code",
   "execution_count": null,
   "metadata": {
    "executionInfo": {
     "elapsed": 9,
     "status": "ok",
     "timestamp": 1682341836645,
     "user": {
      "displayName": "Maoran Sun",
      "userId": "15510753340659742457"
     },
     "user_tz": -60
    },
    "id": "_R15Cz1G-OHL"
   },
   "outputs": [],
   "source": [
    "data['Date/Time'] = [i + j for i, j in zip(data['Date/Time'], data['Unit'])]"
   ]
  },
  {
   "cell_type": "code",
   "execution_count": null,
   "metadata": {
    "colab": {
     "base_uri": "https://localhost:8080/",
     "height": 206
    },
    "executionInfo": {
     "elapsed": 9,
     "status": "ok",
     "timestamp": 1682341836645,
     "user": {
      "displayName": "Maoran Sun",
      "userId": "15510753340659742457"
     },
     "user_tz": -60
    },
    "id": "XMVISWY2-nIs",
    "outputId": "56038a0c-1fda-4401-fe2f-e2ebb14e1afd"
   },
   "outputs": [],
   "source": [
    "data.head()"
   ]
  },
  {
   "cell_type": "code",
   "execution_count": null,
   "metadata": {
    "colab": {
     "base_uri": "https://localhost:8080/",
     "height": 424
    },
    "executionInfo": {
     "elapsed": 7,
     "status": "ok",
     "timestamp": 1682341836645,
     "user": {
      "displayName": "Maoran Sun",
      "userId": "15510753340659742457"
     },
     "user_tz": -60
    },
    "id": "A7YWLH2o_oGK",
    "outputId": "7ce2d990-0346-419e-a417-f10aaeb18557"
   },
   "outputs": [],
   "source": [
    "data"
   ]
  },
  {
   "cell_type": "markdown",
   "metadata": {
    "id": "RwcxFRNY4XOA"
   },
   "source": [
    "## Run detection"
   ]
  },
  {
   "cell_type": "markdown",
   "metadata": {
    "id": "rOyVCBfC4Zdp"
   },
   "source": [
    "#### firefinder algorithm"
   ]
  },
  {
   "cell_type": "code",
   "execution_count": null,
   "metadata": {
    "colab": {
     "base_uri": "https://localhost:8080/"
    },
    "executionInfo": {
     "elapsed": 10467,
     "status": "ok",
     "timestamp": 1682341847106,
     "user": {
      "displayName": "Maoran Sun",
      "userId": "15510753340659742457"
     },
     "user_tz": -60
    },
    "id": "TigQ8rjt4Vxw",
    "outputId": "cdf43f13-5288-4113-d842-c104c101f85d"
   },
   "outputs": [],
   "source": [
    "data['predFirefinder'] = firefinder_detector(data, primary_threshold=75)"
   ]
  },
  {
   "cell_type": "markdown",
   "metadata": {
    "id": "bmxi6YDe4iQK"
   },
   "source": [
    "#### threshold algorithm"
   ]
  },
  {
   "cell_type": "code",
   "execution_count": null,
   "metadata": {
    "colab": {
     "base_uri": "https://localhost:8080/"
    },
    "executionInfo": {
     "elapsed": 9,
     "status": "ok",
     "timestamp": 1682341847107,
     "user": {
      "displayName": "Maoran Sun",
      "userId": "15510753340659742457"
     },
     "user_tz": -60
    },
    "id": "Cr_6BHk74vDW",
    "outputId": "ef3b5a26-56ed-4b47-a713-ae31fd4a38b3"
   },
   "outputs": [],
   "source": [
    "data['predThreshold'] = threshold_detector(data, threshold=85)"
   ]
  },
  {
   "cell_type": "markdown",
   "metadata": {
    "id": "S9sVOFBq43ol"
   },
   "source": [
    "#### ML algorithm"
   ]
  },
  {
   "cell_type": "code",
   "execution_count": null,
   "metadata": {
    "colab": {
     "base_uri": "https://localhost:8080/"
    },
    "executionInfo": {
     "elapsed": 1669,
     "status": "ok",
     "timestamp": 1682341848769,
     "user": {
      "displayName": "Maoran Sun",
      "userId": "15510753340659742457"
     },
     "user_tz": -60
    },
    "id": "RYP3Ok544vAE",
    "outputId": "0e805778-dfe3-4c56-bb29-47e7f9909e73"
   },
   "outputs": [],
   "source": [
    "data['predML'] = ml_detector(data, model_path=\"model.json\")"
   ]
  },
  {
   "cell_type": "markdown",
   "metadata": {
    "id": "Mnyanlwk5JAC"
   },
   "source": [
    "## Plot functions"
   ]
  },
  {
   "cell_type": "markdown",
   "metadata": {
    "id": "bu8i1bgqAKg7"
   },
   "source": [
    "#### Plot ML result"
   ]
  },
  {
   "cell_type": "code",
   "execution_count": null,
   "metadata": {
    "colab": {
     "base_uri": "https://localhost:8080/",
     "height": 1000
    },
    "executionInfo": {
     "elapsed": 5989,
     "status": "ok",
     "timestamp": 1682341854756,
     "user": {
      "displayName": "Maoran Sun",
      "userId": "15510753340659742457"
     },
     "user_tz": -60
    },
    "id": "3bAuUMRk51ag",
    "outputId": "6a3bdb3a-cd1c-4498-9eb2-f69ed78f2f60"
   },
   "outputs": [],
   "source": [
    "splitPlot(data, valueCol='Value', labelCol='predML', figureTitle='Machine Learning detected events')"
   ]
  },
  {
   "cell_type": "markdown",
   "metadata": {
    "id": "lVUEOBdqAP0g"
   },
   "source": [
    "#### Plot Firefinder result"
   ]
  },
  {
   "cell_type": "code",
   "execution_count": null,
   "metadata": {
    "colab": {
     "base_uri": "https://localhost:8080/",
     "height": 1000
    },
    "executionInfo": {
     "elapsed": 3996,
     "status": "ok",
     "timestamp": 1682341858749,
     "user": {
      "displayName": "Maoran Sun",
      "userId": "15510753340659742457"
     },
     "user_tz": -60
    },
    "id": "o7YuOCdm4u7Z",
    "outputId": "34998ee0-f703-4238-8e56-4b0334e9357b"
   },
   "outputs": [],
   "source": [
    "splitPlot(data, valueCol='Value', labelCol='predFirefinder', figureTitle='Firefinder detected events')"
   ]
  },
  {
   "cell_type": "markdown",
   "metadata": {
    "id": "yvXVClPzASCD"
   },
   "source": [
    "#### Plot Threshold result"
   ]
  },
  {
   "cell_type": "code",
   "execution_count": null,
   "metadata": {
    "colab": {
     "base_uri": "https://localhost:8080/",
     "height": 1000
    },
    "executionInfo": {
     "elapsed": 3488,
     "status": "ok",
     "timestamp": 1682341862222,
     "user": {
      "displayName": "Maoran Sun",
      "userId": "15510753340659742457"
     },
     "user_tz": -60
    },
    "id": "sOMlMjIP4u4k",
    "outputId": "f0210f83-8b31-4b4a-fec8-12b51c1d4ae8"
   },
   "outputs": [],
   "source": [
    "splitPlot(data, valueCol='Value', labelCol='predThreshold', figureTitle='Threshold method detected events')"
   ]
  },
  {
   "cell_type": "markdown",
   "metadata": {
    "id": "rXushNQu7fWR"
   },
   "source": [
    "## Summarize events"
   ]
  },
  {
   "cell_type": "code",
   "execution_count": null,
   "metadata": {
    "colab": {
     "base_uri": "https://localhost:8080/"
    },
    "executionInfo": {
     "elapsed": 2915,
     "status": "ok",
     "timestamp": 1682341883543,
     "user": {
      "displayName": "Maoran Sun",
      "userId": "15510753340659742457"
     },
     "user_tz": -60
    },
    "id": "cPggf0YS4u0n",
    "outputId": "21862fe5-588a-4df6-cde9-446a14e8e281"
   },
   "outputs": [],
   "source": [
    "eventsDF = formatEvents(data, filePath=fileName, labelCol='predFirefinder')"
   ]
  },
  {
   "cell_type": "code",
   "execution_count": null,
   "metadata": {
    "colab": {
     "base_uri": "https://localhost:8080/",
     "height": 424
    },
    "executionInfo": {
     "elapsed": 6,
     "status": "ok",
     "timestamp": 1682341883543,
     "user": {
      "displayName": "Maoran Sun",
      "userId": "15510753340659742457"
     },
     "user_tz": -60
    },
    "id": "xr_BjgQ94uxI",
    "outputId": "b324820d-79a4-4e6e-a665-d7369f9b1741"
   },
   "outputs": [],
   "source": [
    "eventsDF"
   ]
  },
  {
   "cell_type": "markdown",
   "metadata": {
    "id": "8OOEfD9H3Xkr"
   },
   "source": [
    "#### Save event summary to google drive"
   ]
  },
  {
   "cell_type": "code",
   "execution_count": null,
   "metadata": {
    "executionInfo": {
     "elapsed": 359,
     "status": "ok",
     "timestamp": 1682341883897,
     "user": {
      "displayName": "Maoran Sun",
      "userId": "15510753340659742457"
     },
     "user_tz": -60
    },
    "id": "sUMzYHrO4uu5"
   },
   "outputs": [],
   "source": [
    "# change filename if needed\n",
    "eventsDF.to_csv(\"/content/drive/MyDrive/SUMSarizer/event_summary_fireFinder.csv\")"
   ]
  },
  {
   "cell_type": "markdown",
   "metadata": {
    "id": "W5iFEHbZFFy2"
   },
   "source": [
    "## Batch process"
   ]
  },
  {
   "cell_type": "code",
   "execution_count": null,
   "metadata": {
    "colab": {
     "base_uri": "https://localhost:8080/"
    },
    "executionInfo": {
     "elapsed": 3,
     "status": "ok",
     "timestamp": 1682341883898,
     "user": {
      "displayName": "Maoran Sun",
      "userId": "15510753340659742457"
     },
     "user_tz": -60
    },
    "id": "dNXIjqYs4urZ",
    "outputId": "81d4c7d6-16ec-4f6a-956b-f770b0fb4b5a",
    "scrolled": true
   },
   "outputs": [],
   "source": [
    "# specify folder\n",
    "folder = \"cook_time_data_clean\"\n",
    "fileNames = []\n",
    "fileNames.extend(glob.glob(\"{}/*.csv\".format(folder)))\n",
    "fileNames.extend(glob.glob(\"{}/*/*.csv\".format(folder)))\n",
    "fileNames.extend(glob.glob(\"{}/*/*/*.csv\".format(folder)))\n",
    "# fileNames = sorted([os.path.join(folder, i) for i in os.listdir(folder) if i[-3:] == 'csv'])\n",
    "print(fileNames)"
   ]
  },
  {
   "cell_type": "code",
   "execution_count": null,
   "metadata": {
    "colab": {
     "base_uri": "https://localhost:8080/",
     "height": 1000
    },
    "executionInfo": {
     "elapsed": 17412,
     "status": "ok",
     "timestamp": 1682342153792,
     "user": {
      "displayName": "Maoran Sun",
      "userId": "15510753340659742457"
     },
     "user_tz": -60
    },
    "id": "jE1Kqgsj4uok",
    "outputId": "50393b46-1c90-4dad-aeef-71bb137a8a58"
   },
   "outputs": [],
   "source": [
    "for fileIdx in range(len(fileNames)):\n",
    "    # get file path\n",
    "    filePath = fileNames[fileIdx]\n",
    "    print(\"Now processing file: \", filePath)\n",
    "    # exract file name from path\n",
    "    fileName = filePath.split('/')[-1].split('.')[0]\n",
    "    # setup folder for storing result\n",
    "    resultFolder = os.path.join('result', filePath.replace(fileName+'.csv', ''))\n",
    "    if not os.path.exists(resultFolder):\n",
    "        os.makedirs(resultFolder)\n",
    "    # load data\n",
    "    data = pd.read_csv(filePath)\n",
    "    # setup time format, this line might need change according to column format\n",
    "    data['Date/Time'] = [i + j for i, j in zip(data['Date/Time'], data['Unit'])]\n",
    "    # run detections\n",
    "    data['predML'] = ml_detector(data, model_path=\"model.json\")\n",
    "    data['predFirefinder'] = firefinder_detector(data, primary_threshold=65)\n",
    "    data['predThreshold'] = threshold_detector(data, threshold=65)\n",
    "    # plot\n",
    "    splitPlot(data, valueCol='Value', labelCol='predML', figureTitle='Machine Learning detected events', figurePath=os.path.join(resultFolder, 'Plot_ML.png'))\n",
    "    splitPlot(data, valueCol='Value', labelCol='predFirefinder', figureTitle='Firefinder detected events', figurePath=os.path.join(resultFolder, 'Plot_FireFinder.png'))\n",
    "    splitPlot(data, valueCol='Value', labelCol='predThreshold', figureTitle='Threshold method detected events', figurePath=os.path.join(resultFolder, 'Plot_Threshold.png'))\n",
    "    # identify events and save to csv\n",
    "    eventsDF = formatEvents(data, filePath=fileNames[fileIdx], labelCol='predML')\n",
    "    eventsDF.to_csv(os.path.join(resultFolder, \"event_summary_ML.csv\"))\n",
    "    eventsDF = formatEvents(data, filePath=fileNames[fileIdx], labelCol='predFirefinder')\n",
    "    eventsDF.to_csv(os.path.join(resultFolder, \"event_summary_fireFinder.csv\"))\n",
    "    eventsDF = formatEvents(data, filePath=fileNames[fileIdx], labelCol='predThreshold')\n",
    "    eventsDF.to_csv(os.path.join(resultFolder, \"event_summary_Threshold.csv\"))\n",
    "    eventsDF.to_csv(os.path.join(resultFolder, \"{}_Threshold.csv\".format(fileName)))\n"
   ]
  },
  {
   "cell_type": "code",
   "execution_count": null,
   "metadata": {
    "executionInfo": {
     "elapsed": 3,
     "status": "ok",
     "timestamp": 1682341914501,
     "user": {
      "displayName": "Maoran Sun",
      "userId": "15510753340659742457"
     },
     "user_tz": -60
    },
    "id": "qv65HMea38Rj"
   },
   "outputs": [],
   "source": []
  },
  {
   "cell_type": "code",
   "execution_count": null,
   "metadata": {},
   "outputs": [],
   "source": []
  },
  {
   "cell_type": "code",
   "execution_count": null,
   "metadata": {},
   "outputs": [],
   "source": []
  }
 ],
 "metadata": {
  "colab": {
   "provenance": [
    {
     "file_id": "11anj1XRb_syj0KCYP4R1sacrRxMkJN8P",
     "timestamp": 1681896830643
    }
   ],
   "toc_visible": true
  },
  "kernelspec": {
   "display_name": "Python 3 (ipykernel)",
   "language": "python",
   "name": "python3"
  },
  "language_info": {
   "codemirror_mode": {
    "name": "ipython",
    "version": 3
   },
   "file_extension": ".py",
   "mimetype": "text/x-python",
   "name": "python",
   "nbconvert_exporter": "python",
   "pygments_lexer": "ipython3",
   "version": "3.10.6"
  }
 },
 "nbformat": 4,
 "nbformat_minor": 1
}
